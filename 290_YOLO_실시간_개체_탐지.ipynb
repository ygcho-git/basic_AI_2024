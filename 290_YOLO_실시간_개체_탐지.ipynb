{
 "cells": [
  {
   "cell_type": "code",
   "execution_count": null,
   "metadata": {},
   "outputs": [],
   "source": [
    "# opencv 설치\n",
    "\n",
    "pip install opencv-python"
   ]
  },
  {
   "cell_type": "code",
   "execution_count": 63,
   "metadata": {},
   "outputs": [],
   "source": [
    "import cv2\n",
    "\n",
    "frame = cv2.imread('test1.jpg')\n",
    "\n",
    "cv2.imshow(\"Image view\", frame)\n",
    "\n",
    "cv2.waitKey(0)\n",
    "\n",
    "capture.release()\n",
    "cv2.destroyAllWindows()"
   ]
  },
  {
   "cell_type": "code",
   "execution_count": null,
   "metadata": {},
   "outputs": [
    {
     "name": "stdout",
     "output_type": "stream",
     "text": [
      "255\n"
     ]
    }
   ],
   "source": [
    "# 사진 찍어서 pic.jpg로 저장\n",
    "import cv2\n",
    "\n",
    "# Camera\n",
    "capture = cv2.VideoCapture(0)\n",
    "capture.set(cv2.CAP_PROP_FRAME_WIDTH,640)\n",
    "capture.set(cv2.CAP_PROP_FRAME_WIDTH,480)\n",
    "\n",
    "\n",
    "ret, frame = capture.read()\n",
    "\n",
    "key = cv2.waitKey(33) & 0xFF\n",
    "\n",
    "cv2.imwrite(\"pic.jpg\", frame) # 영상 저장\n",
    "\n",
    "capture.release()\n",
    "cv2.destroyAllWindows()"
   ]
  },
  {
   "cell_type": "code",
   "execution_count": null,
   "metadata": {},
   "outputs": [],
   "source": [
    "# 'p'를 누르면 사진을 찍어서 photo.jpg로 저장\n",
    "# 'q'를 누르면 종료\n",
    "import cv2\n",
    "\n",
    "capture = cv2.VideoCapture(0)\n",
    "capture.set(cv2.CAP_PROP_FRAME_WIDTH,640)\n",
    "capture.set(cv2.CAP_PROP_FRAME_WIDTH,480)\n",
    "\n",
    "while True :    \n",
    "    ret, frame = capture.read()\n",
    "    \n",
    "    cv2.imshow(\"my frame\", frame)\n",
    "    \n",
    "    key = cv2.waitKey(33) & 0xFF\n",
    "    if key == ord('p') :\n",
    "        cv2.imwrite(\"photo.jpg\", frame) # 영상 저장\n",
    "    elif key == ord('q') :\n",
    "        break\n",
    "    \n",
    "capture.release()\n",
    "cv2.destroyAllWindows()"
   ]
  },
  {
   "cell_type": "code",
   "execution_count": null,
   "metadata": {},
   "outputs": [],
   "source": [
    "# 'p'를 누를 때마다 사진을 찍어서 저장... photo1.jpg, photo2.jpg, ...\n",
    "# 'q'를 누르면 종료\n",
    "import cv2\n",
    "\n",
    "capture = cv2.VideoCapture(0)\n",
    "capture.set(cv2.CAP_PROP_FRAME_WIDTH,640)\n",
    "capture.set(cv2.CAP_PROP_FRAME_WIDTH,480)\n",
    "\n",
    "????\n",
    "while True :    \n",
    "    ret, frame = capture.read()\n",
    "    \n",
    "    cv2.imshow(\"my frame\", frame)\n",
    "    \n",
    "    key = cv2.waitKey(33) & 0xFF\n",
    "    if key == ord('p') :\n",
    "        cv2.imwrite(f\"photo{cnt}.jpg\", frame) # 영상 저장\n",
    "        ?????\n",
    "    elif key == ord('q') :\n",
    "        break\n",
    "    \n",
    "capture.release()\n",
    "cv2.destroyAllWindows()"
   ]
  },
  {
   "cell_type": "markdown",
   "metadata": {},
   "source": [
    "### 주의 \n",
    "* 일반적인 경우 RGB (Red, Green, Blue) \n",
    "* OpenCV는 BGR (Blue, Green, Red) 순서"
   ]
  },
  {
   "cell_type": "code",
   "execution_count": null,
   "metadata": {},
   "outputs": [],
   "source": [
    "# 좌측 상단에 \"Good morning\" 글자를 표시\n",
    "# 'q'를 누르면 종료\n",
    "import cv2\n",
    "\n",
    "capture = cv2.VideoCapture(0)\n",
    "capture.set(cv2.CAP_PROP_FRAME_WIDTH,640)\n",
    "capture.set(cv2.CAP_PROP_FRAME_WIDTH,480)\n",
    "\n",
    "while True :    \n",
    "    ret, frame = capture.read()\n",
    "    \n",
    "    cv2.putText(frame, \"Good morning\", (10, 30), cv2.FONT_HERSHEY_SIMPLEX, 0.8, (0, 255, 0), 2) #  텍스트 표시 ############################\n",
    "    \n",
    "    cv2.imshow(\"my frame\", frame)\n",
    "    \n",
    "    key = cv2.waitKey(33) & 0xFF\n",
    "    if key == ord('q') :\n",
    "        break\n",
    "    \n",
    "capture.release()\n",
    "cv2.destroyAllWindows()"
   ]
  },
  {
   "cell_type": "code",
   "execution_count": null,
   "metadata": {},
   "outputs": [],
   "source": [
    "# 좌측 상단에 \"Good morning\" 글자를 표시\n",
    "# 파랑 사각형 테두리\n",
    "# 'q'를 누르면 종료\n",
    "import cv2\n",
    "\n",
    "capture = cv2.VideoCapture(0)\n",
    "capture.set(cv2.CAP_PROP_FRAME_WIDTH,640)\n",
    "capture.set(cv2.CAP_PROP_FRAME_WIDTH,480)\n",
    "\n",
    "while True :    \n",
    "    ret, frame = capture.read()\n",
    "    \n",
    "    cv2.putText(frame, \"Good morning\", (10, 30), cv2.FONT_HERSHEY_SIMPLEX, 0.8, (0, 255, 0), 2)\n",
    "\n",
    "    cv2.rectangle(frame, (10, 10), (630, 470), (255, 0, 0), 2)   # 사각형 테두리 #############################\n",
    "    \n",
    "    cv2.imshow(\"my frame\", frame)\n",
    "    \n",
    "    key = cv2.waitKey(33) & 0xFF\n",
    "    if key == ord('q') :\n",
    "        break\n",
    "    \n",
    "capture.release()\n",
    "cv2.destroyAllWindows()"
   ]
  },
  {
   "cell_type": "code",
   "execution_count": null,
   "metadata": {},
   "outputs": [],
   "source": [
    "# yolo 라이브러리(모듈) 설치\n",
    "\n",
    "pip install ultralytics"
   ]
  },
  {
   "cell_type": "code",
   "execution_count": 27,
   "metadata": {},
   "outputs": [],
   "source": [
    "from ultralytics import YOLO\n",
    "\n",
    "model = YOLO('yolo11n.pt')"
   ]
  },
  {
   "cell_type": "code",
   "execution_count": null,
   "metadata": {},
   "outputs": [],
   "source": [
    "results = model.predict('test1.jpg', conf=0.5)   # conf : 신뢰도의 임계치"
   ]
  },
  {
   "cell_type": "code",
   "execution_count": null,
   "metadata": {},
   "outputs": [],
   "source": [
    "results[0]"
   ]
  },
  {
   "cell_type": "code",
   "execution_count": null,
   "metadata": {},
   "outputs": [],
   "source": [
    "results[0].boxes"
   ]
  },
  {
   "cell_type": "code",
   "execution_count": null,
   "metadata": {},
   "outputs": [],
   "source": [
    "# 클래스 번호 추출\n",
    "print(results[0].boxes.cls)\n",
    "print(results[0].boxes.cls[0])\n",
    "print(results[0].boxes.cls[0].item())"
   ]
  },
  {
   "cell_type": "code",
   "execution_count": null,
   "metadata": {},
   "outputs": [],
   "source": [
    "# 클래스 번호와 명칭 딕셔너리\n",
    "print(results[0].names)"
   ]
  },
  {
   "cell_type": "code",
   "execution_count": null,
   "metadata": {},
   "outputs": [],
   "source": [
    "# 클래스 번호 --> 객체의 명칭 \n",
    "# (ex :     0 --> person)\n",
    "print(results[0].names[???????])"
   ]
  },
  {
   "cell_type": "code",
   "execution_count": null,
   "metadata": {},
   "outputs": [],
   "source": [
    "# 신뢰도 추출\n",
    "\n",
    "print(results[0].boxes.conf)\n",
    "print(results[0].boxes.conf[0])\n",
    "print(results[0].boxes.conf[0].item())"
   ]
  },
  {
   "cell_type": "code",
   "execution_count": null,
   "metadata": {},
   "outputs": [],
   "source": [
    "# xywh 좌표 추출\n",
    "\n",
    "print(results[0].boxes.xywh)\n",
    "print(results[0].boxes.xywh[0])\n",
    "print(results[0].boxes.xywh[0].tolist())"
   ]
  },
  {
   "cell_type": "code",
   "execution_count": null,
   "metadata": {},
   "outputs": [],
   "source": [
    "# xyxy 좌표 추출\n",
    "\n",
    "print(results[0].boxes.xyxy)\n",
    "print(results[0].boxes.xyxy[0])\n",
    "print(results[0].boxes.xyxy[0].tolist())"
   ]
  },
  {
   "cell_type": "code",
   "execution_count": null,
   "metadata": {},
   "outputs": [],
   "source": [
    "# xyxy좌표를 x1, y1, x2, y2 변수로\n",
    "\n",
    "x1, y1, x2, y2 = results[0].boxes.xywh[0].tolist()\n",
    "                 # [147.8463134765625, 19.120574951171875, 548.4539794921875, 336.2771301269531]\n",
    "                 \n",
    "print(x1, y1)\n",
    "print(x2, y2)"
   ]
  },
  {
   "cell_type": "code",
   "execution_count": null,
   "metadata": {},
   "outputs": [],
   "source": [
    "# 웹캠으로 보이는 영상을 YOLO로 추론\n",
    "import cv2\n",
    "from ultralytics import YOLO\n",
    "\n",
    "model = YOLO('yolo11n.pt')   #############################################################\n",
    "\n",
    "capture = cv2.VideoCapture(0)\n",
    "capture.set(cv2.CAP_PROP_FRAME_WIDTH,640)\n",
    "capture.set(cv2.CAP_PROP_FRAME_WIDTH,480)\n",
    "\n",
    "while True :    \n",
    "    ret, frame = capture.read()\n",
    "\n",
    "    results = model.predict(frame, conf=0.5) # 카메라로 캡쳐한 영상(frame)에 대한 YOLO의 추론 결과    \n",
    "    \n",
    "    cv2.imshow(\"my frame\", frame)\n",
    "    \n",
    "    key = cv2.waitKey(33) & 0xFF\n",
    "    if key == ord('q') :\n",
    "        break\n",
    "    \n",
    "capture.release()\n",
    "cv2.destroyAllWindows()"
   ]
  },
  {
   "cell_type": "code",
   "execution_count": null,
   "metadata": {},
   "outputs": [],
   "source": [
    "# 웹캠으로 보이는 영상을 YOLO로 추론 (조금 살살...)\n",
    "import cv2\n",
    "from ultralytics import YOLO\n",
    "\n",
    "model = YOLO('yolo11n.pt')\n",
    "\n",
    "capture = cv2.VideoCapture(0)\n",
    "capture.set(cv2.CAP_PROP_FRAME_WIDTH,640)\n",
    "capture.set(cv2.CAP_PROP_FRAME_WIDTH,480)\n",
    "\n",
    "while True :    \n",
    "    ret, frame = capture.read()\n",
    "\n",
    "    results = model.predict(frame, conf=0.5) # 카메라로 캡쳐한 영상(frame)에 대한 YOLO의 추론 결과    \n",
    "    \n",
    "    cv2.imshow(\"my frame\", frame)\n",
    "    \n",
    "    key = cv2.waitKey(???) & 0xFF\n",
    "    if key == ord('q') :\n",
    "        break\n",
    "    \n",
    "capture.release()\n",
    "cv2.destroyAllWindows()"
   ]
  },
  {
   "cell_type": "code",
   "execution_count": null,
   "metadata": {},
   "outputs": [],
   "source": [
    "# 첫번째 인식한 객체의 정보를 표시\n",
    "import cv2\n",
    "from ultralytics import YOLO\n",
    "\n",
    "model = YOLO('yolo11n.pt')\n",
    "\n",
    "capture = cv2.VideoCapture(0)\n",
    "capture.set(cv2.CAP_PROP_FRAME_WIDTH,640)\n",
    "capture.set(cv2.CAP_PROP_FRAME_WIDTH,480)\n",
    "\n",
    "while True :    \n",
    "    ret, frame = capture.read()\n",
    "\n",
    "    results = model.predict(frame, conf=0.5, verbose=False)\n",
    "    \n",
    "    class_num = results[0].boxes.cls[0].item()   # 첫번째 객체의 클래스 번호\n",
    "    class_name = results[0].names[class_num]        # 첫번째 객체의 클래스 이름\n",
    "    \n",
    "    conf = results[0].boxes.conf[0].item()       # 첫번째 객체의 신뢰도\n",
    "    \n",
    "    x1, y1, x2, y2 = results[0].boxes.xyxy[0].tolist()  # 첫번째 객체의 xyxy 좌표\n",
    "    \n",
    "    print(class_name, conf, x1, y1, x2, y2)\n",
    "    \n",
    "    \n",
    "    cv2.imshow(\"my frame\", frame)\n",
    "    \n",
    "    key = cv2.waitKey(1000) & 0xFF\n",
    "    if key == ord('q') :\n",
    "        break\n",
    "    \n",
    "capture.release()\n",
    "cv2.destroyAllWindows()"
   ]
  },
  {
   "cell_type": "code",
   "execution_count": null,
   "metadata": {},
   "outputs": [],
   "source": [
    "# 좌표를 모두 정수로 바꾸기...\n",
    "import cv2\n",
    "from ultralytics import YOLO\n",
    "\n",
    "model = YOLO('yolo11n.pt')\n",
    "\n",
    "capture = cv2.VideoCapture(0)\n",
    "capture.set(cv2.CAP_PROP_FRAME_WIDTH,640)\n",
    "capture.set(cv2.CAP_PROP_FRAME_WIDTH,480)\n",
    "\n",
    "while True :    \n",
    "    ret, frame = capture.read()\n",
    "\n",
    "    results = model.predict(frame, conf=0.5, verbose=False)\n",
    "    \n",
    "    class_num = results[0].boxes.cls[0].item()   # 첫번째 객체의 클래스 번호\n",
    "    class_name = results[0].names[class_num]        # 첫번째 객체의 클래스 이름\n",
    "    \n",
    "    conf = results[0].boxes.conf[0].item()       # 첫번째 객체의 신뢰도\n",
    "    \n",
    "    # x1, y1, x2, y2 = results[0].boxes.xyxy[0].tolist()  # 첫번째 객체의 xyxy 좌표\n",
    "    x1, y1, x2, y2 = map(int, results[0].boxes.xyxy[0].tolist())  # 각 좌표를 모두 정수로\n",
    "    \n",
    "    print(class_name, conf, x1, y1, x2, y2)\n",
    "    \n",
    "    \n",
    "    cv2.imshow(\"my frame\", frame)\n",
    "    \n",
    "    key = cv2.waitKey(1000) & 0xFF\n",
    "    if key == ord('q') :\n",
    "        break\n",
    "    \n",
    "capture.release()\n",
    "cv2.destroyAllWindows()"
   ]
  },
  {
   "cell_type": "code",
   "execution_count": null,
   "metadata": {},
   "outputs": [],
   "source": [
    "# 이미지에서 첫번째 객체를 박스로 표시\n",
    "\n",
    "import cv2\n",
    "from ultralytics import YOLO\n",
    "\n",
    "model = YOLO('yolo11n.pt')\n",
    "\n",
    "capture = cv2.VideoCapture(0)\n",
    "capture.set(cv2.CAP_PROP_FRAME_WIDTH,640)\n",
    "capture.set(cv2.CAP_PROP_FRAME_WIDTH,480)\n",
    "\n",
    "while True :    \n",
    "    ret, frame = capture.read()\n",
    "\n",
    "    results = model.predict(frame, conf=0.5, verbose=False)\n",
    "    \n",
    "    class_num = results[0].boxes.cls[0].item()   # 첫번째 객체의 클래스 번호\n",
    "    class_name = results[0].names[class_num]        # 첫번째 객체의 클래스 이름\n",
    "    \n",
    "    conf = results[0].boxes.conf[0].item()       # 첫번째 객체의 신뢰도\n",
    "    \n",
    "    x1, y1, x2, y2 = map(int, results[0].boxes.xyxy[0].tolist())  # 각 좌표를 모두 정수로\n",
    "    \n",
    "    \n",
    "    print(class_name, conf, x1, y1, x2, y2)\n",
    "    \n",
    "    cv2.rectangle(frame, (??, ??), (??, ??), (255, 0, 0), 2)   # 사각형 테두리 #############################\n",
    "    \n",
    "    \n",
    "    cv2.imshow(\"my frame\", frame)\n",
    "    \n",
    "    key = cv2.waitKey(1000) & 0xFF\n",
    "    if key == ord('q') :\n",
    "        break\n",
    "    \n",
    "capture.release()\n",
    "cv2.destroyAllWindows()"
   ]
  },
  {
   "cell_type": "code",
   "execution_count": null,
   "metadata": {},
   "outputs": [],
   "source": [
    "# 이미지 위에 객체 추론의 신뢰도 출력\n",
    "\n",
    "import cv2\n",
    "from ultralytics import YOLO\n",
    "\n",
    "model = YOLO('yolo11n.pt')\n",
    "\n",
    "capture = cv2.VideoCapture(0)\n",
    "capture.set(cv2.CAP_PROP_FRAME_WIDTH,640)\n",
    "capture.set(cv2.CAP_PROP_FRAME_WIDTH,480)\n",
    "\n",
    "while True :    \n",
    "    ret, frame = capture.read()\n",
    "\n",
    "    results = model.predict(frame, conf=0.5, verbose=False)\n",
    "    \n",
    "    class_num = results[0].boxes.cls[0].item()   # 첫번째 객체의 클래스 번호\n",
    "    class_name = results[0].names[class_num]        # 첫번째 객체의 클래스 이름\n",
    "    \n",
    "    conf = results[0].boxes.conf[0].item()       # 첫번째 객체의 신뢰도\n",
    "    \n",
    "    x1, y1, x2, y2 = map(int, results[0].boxes.xyxy[0].tolist())  # 각 좌표를 모두 정수로\n",
    "    \n",
    "    \n",
    "    print(class_name, conf, x1, y1, x2, y2)\n",
    "    \n",
    "    cv2.rectangle(frame, (x1, y1), (x2, y2), (255, 0, 0), 2)\n",
    "    cv2.putText(frame, 출력할 문자, (x좌표, y좌표), cv2.FONT_HERSHEY_SIMPLEX, 0.8, (0, 255, 0), 2)\n",
    "    \n",
    "    cv2.imshow(\"my frame\", frame)\n",
    "    \n",
    "    key = cv2.waitKey(1000) & 0xFF\n",
    "    if key == ord('q') :\n",
    "        break\n",
    "    \n",
    "capture.release()\n",
    "cv2.destroyAllWindows()"
   ]
  },
  {
   "cell_type": "code",
   "execution_count": 53,
   "metadata": {},
   "outputs": [
    {
     "name": "stdout",
     "output_type": "stream",
     "text": [
      "tensor([ 0., 56., 56.])\n",
      "3\n"
     ]
    }
   ],
   "source": [
    "# 몇 개의 개체를 인식했는지 출력해 보기\n",
    "print(results[0].boxes.cls)\n",
    "print(len(results[0].boxes.cls))"
   ]
  },
  {
   "cell_type": "code",
   "execution_count": null,
   "metadata": {},
   "outputs": [],
   "source": [
    "# 모든 객체에 박스 표시\n",
    "\n",
    "import cv2\n",
    "from ultralytics import YOLO\n",
    "\n",
    "model = YOLO('yolo11n.pt')\n",
    "\n",
    "capture = cv2.VideoCapture(0)\n",
    "capture.set(cv2.CAP_PROP_FRAME_WIDTH,640)\n",
    "capture.set(cv2.CAP_PROP_FRAME_WIDTH,480)\n",
    "\n",
    "while True :    \n",
    "    ret, frame = capture.read()\n",
    "\n",
    "    results = model.predict(frame, conf=0.5, verbose=False)\n",
    "    \n",
    "    for i in range(???) :\n",
    "        class_num = results[0].boxes.cls[?].item()   # 첫번째 객체의 클래스 번호\n",
    "        class_name = results[0].names[class_num]        # 첫번째 객체의 클래스 이름\n",
    "        \n",
    "        conf = results[0].boxes.conf[?].item()       # 첫번째 객체의 신뢰도\n",
    "        \n",
    "        x1, y1, x2, y2 = map(int, results[0].boxes.xyxy[?].tolist())  # 각 좌표를 모두 정수로\n",
    "        \n",
    "        cv2.rectangle(frame, (x1, y1), (x2, y2), (255, 0, 0), 2)\n",
    "        cv2.putText(frame, class_name+str(conf), (x1, y1), cv2.FONT_HERSHEY_SIMPLEX, 0.8, (0, 255, 0), 2)\n",
    "    \n",
    "    cv2.imshow(\"my frame\", frame)\n",
    "    \n",
    "    key = cv2.waitKey(1000) & 0xFF\n",
    "    if key == ord('q') :\n",
    "        break\n",
    "    \n",
    "capture.release()\n",
    "cv2.destroyAllWindows()"
   ]
  }
 ],
 "metadata": {
  "kernelspec": {
   "display_name": ".venv",
   "language": "python",
   "name": "python3"
  },
  "language_info": {
   "codemirror_mode": {
    "name": "ipython",
    "version": 3
   },
   "file_extension": ".py",
   "mimetype": "text/x-python",
   "name": "python",
   "nbconvert_exporter": "python",
   "pygments_lexer": "ipython3",
   "version": "3.12.4"
  }
 },
 "nbformat": 4,
 "nbformat_minor": 2
}
